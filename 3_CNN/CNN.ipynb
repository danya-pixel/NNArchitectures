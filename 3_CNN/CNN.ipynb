{
 "cells": [
  {
   "cell_type": "code",
   "execution_count": 2,
   "metadata": {},
   "outputs": [],
   "source": [
    "from keras.datasets import mnist"
   ]
  },
  {
   "cell_type": "code",
   "execution_count": 3,
   "metadata": {},
   "outputs": [
    {
     "name": "stdout",
     "output_type": "stream",
     "text": [
      "X_train: (60000, 28, 28)\n",
      "Y_train: (60000,)\n",
      "X_test:  (10000, 28, 28)\n",
      "Y_test:  (10000,)\n"
     ]
    }
   ],
   "source": [
    "(train_X, train_y), (test_X, test_y) = mnist.load_data()\n",
    "print('X_train: ' + str(train_X.shape))\n",
    "print('Y_train: ' + str(train_y.shape))\n",
    "print('X_test:  '  + str(test_X.shape))\n",
    "print('Y_test:  '  + str(test_y.shape))"
   ]
  },
  {
   "cell_type": "code",
   "execution_count": 4,
   "metadata": {},
   "outputs": [
    {
     "data": {
      "text/plain": [
       "(28, 28)"
      ]
     },
     "execution_count": 4,
     "metadata": {},
     "output_type": "execute_result"
    }
   ],
   "source": [
    "train_X[0].shape"
   ]
  },
  {
   "cell_type": "code",
   "execution_count": 5,
   "metadata": {},
   "outputs": [],
   "source": [
    "from gradient_check import check_layer_gradient, check_layer_param_gradient, check_model_gradient\n",
    "from layers import FullyConnectedLayer, ReLULayer, Conv2D, MaxPoolingLayer, Flattener\n",
    "from optimizers import Adam\n",
    "import numpy as np"
   ]
  },
  {
   "cell_type": "code",
   "execution_count": 6,
   "metadata": {},
   "outputs": [],
   "source": [
    "def calc():\n",
    "    W, K, P = input().split()\n",
    "    W, K, P = int(W), int(K), int(P)\n",
    "    print((W-K+2*P)+1)"
   ]
  },
  {
   "cell_type": "code",
   "execution_count": 7,
   "metadata": {},
   "outputs": [],
   "source": [
    "def convert_tensor(arr):\n",
    "    return np.expand_dims(np.expand_dims(arr, axis=0),axis=0)"
   ]
  },
  {
   "cell_type": "code",
   "execution_count": 12,
   "metadata": {},
   "outputs": [],
   "source": [
    "fc1 = Conv2D(nb_channels=1, filter_size=5, nb_filters=8, stride=4)\n",
    "relu_1 = ReLULayer()\n",
    "mp1  = MaxPoolingLayer(pool_size = 3, stride = 2)\n",
    "fc2 = Conv2D(nb_channels = 3, nb_filters = 16, filter_size = 5, padding = 2)\n",
    "relu_1 = ReLULayer()\n",
    "mp1  = MaxPoolingLayer(pool_size = 3, stride = 2)\n",
    "fc3 = Conv2D(nb_channels = 7, nb_filters = 32, filter_size = 3, padding = 1)"
   ]
  },
  {
   "cell_type": "code",
   "execution_count": 14,
   "metadata": {},
   "outputs": [
    {
     "data": {
      "text/plain": [
       "(1, 8, 6, 6)"
      ]
     },
     "execution_count": 14,
     "metadata": {},
     "output_type": "execute_result"
    }
   ],
   "source": [
    "out = fc1.forward(convert_tensor(train_X[0]))\n",
    "out = mp1.forward(out)\n",
    "#out = fc2.forward(out)\n",
    "#out = mp1.forward(out)\n",
    "#out = fc3.forward(out)\n",
    "\n",
    "out.shape"
   ]
  },
  {
   "cell_type": "code",
   "execution_count": null,
   "metadata": {},
   "outputs": [
    {
     "data": {
      "text/plain": [
       "array([[[[ -934.06033572, -1189.14982432, -2282.36218419,\n",
       "          -1473.89879255, -2083.3450938 ],\n",
       "         [  650.32146018,   401.68372274,    70.43738651,\n",
       "           -893.76387558, -2413.05585627]],\n",
       "\n",
       "        [[  939.21369654,  1452.24776721,  1270.74194515,\n",
       "          -1305.49060158,  -883.11860777],\n",
       "         [ -734.75901082,  -461.40079634, -1384.57219339,\n",
       "          -1822.85736889, -3093.19373074]],\n",
       "\n",
       "        [[ 1394.24408933,  2338.45877781,  2540.85275732,\n",
       "           2580.48922331,  2684.18575961],\n",
       "         [  978.90389175,   956.81810661,  1309.67825065,\n",
       "            645.97352128,  1409.14758794]],\n",
       "\n",
       "        [[  148.53732725,  -957.45985345,  -890.90771709,\n",
       "           -767.90934586, -1716.28418786],\n",
       "         [  385.0824392 ,   305.13073403,    56.74336467,\n",
       "           -888.19195117, -1818.3289984 ]],\n",
       "\n",
       "        [[ 1082.88993942,  3348.59923586,  2729.48683902,\n",
       "           2799.98544449,   659.66278167],\n",
       "         [ 1446.85596114,  2051.70009191,  2893.65677634,\n",
       "           2701.53835637,  2184.46782971]],\n",
       "\n",
       "        [[ -243.07673191,   481.99279594,   -88.74682293,\n",
       "            262.44661364,   148.27014007],\n",
       "         [ -471.01126347,  -501.30555724,  -261.79487346,\n",
       "            948.70552949,  1131.26239742]],\n",
       "\n",
       "        [[  -32.12985107,   328.16050224,   548.9527504 ,\n",
       "           -702.14040566, -1104.65856684],\n",
       "         [ -408.08591721,   303.9511341 ,  -978.49506526,\n",
       "           -282.00062978, -1147.64974952]],\n",
       "\n",
       "        [[ -583.68261606,  1021.44282046,   656.44837887,\n",
       "           1847.08162183,  1912.24125347],\n",
       "         [ 1499.07468884,  2079.23769646,  3444.96239338,\n",
       "           1590.53810459,   368.25583437]],\n",
       "\n",
       "        [[  698.32628346,  2432.46490297,  1765.86617513,\n",
       "           2287.79865482,  1756.1365174 ],\n",
       "         [  863.98068412,   799.10359388,  1383.07330842,\n",
       "           1818.62695397,  1238.94981083]],\n",
       "\n",
       "        [[  439.90493818,   707.12604907,  1500.08495394,\n",
       "           1157.93415127,  1082.71139176],\n",
       "         [ -516.27625836,   203.61386222,    67.06554137,\n",
       "           1273.68372788,   822.36513383]],\n",
       "\n",
       "        [[ 1238.20832823,  1283.73710542,   972.695814  ,\n",
       "             91.66211753,   173.87945976],\n",
       "         [  605.67511087,  -392.76655953,   424.56128502,\n",
       "           -255.66066036,   682.73937455]],\n",
       "\n",
       "        [[   16.80408217,    47.40440701,   -45.55249498,\n",
       "           -717.22472428,   -80.67383631],\n",
       "         [  415.24570474,   164.63926962,  -539.25387715,\n",
       "           -355.02326825,  -470.29712417]],\n",
       "\n",
       "        [[  596.36922989,  1396.60423209,   879.15605093,\n",
       "            224.0471597 , -1707.19424452],\n",
       "         [  147.13059229,   298.09865679,   260.32987884,\n",
       "            666.22879601,  -271.37236516]],\n",
       "\n",
       "        [[  361.35305883,  1083.24879248,  1558.16103148,\n",
       "            750.4161637 ,  -383.1021703 ],\n",
       "         [  221.13453972,  1327.60255381,  1377.43282793,\n",
       "           1503.26647352,   546.98332813]],\n",
       "\n",
       "        [[  530.53507201,   690.03105775,   947.33891913,\n",
       "           1535.7907759 ,  1262.41829585],\n",
       "         [  357.07359152,  -659.36888498,   351.91025642,\n",
       "           -612.363439  ,  -535.47686588]],\n",
       "\n",
       "        [[ -502.23545551,    38.7478385 ,  -655.51680726,\n",
       "           -160.420718  ,   423.60489777],\n",
       "         [ -359.58808043,  -306.88907298,  -384.90912147,\n",
       "           -617.44566713,   897.51630759]]]])"
      ]
     },
     "execution_count": 17,
     "metadata": {},
     "output_type": "execute_result"
    }
   ],
   "source": [
    "out"
   ]
  },
  {
   "cell_type": "code",
   "execution_count": null,
   "metadata": {},
   "outputs": [],
   "source": []
  }
 ],
 "metadata": {
  "interpreter": {
   "hash": "08eac26dc1f80337b7d87e94e7159a5bad95c2e85f47efef91c61359b3afbfe9"
  },
  "kernelspec": {
   "display_name": "Python 3.9.7 ('ml')",
   "language": "python",
   "name": "python3"
  },
  "language_info": {
   "codemirror_mode": {
    "name": "ipython",
    "version": 3
   },
   "file_extension": ".py",
   "mimetype": "text/x-python",
   "name": "python",
   "nbconvert_exporter": "python",
   "pygments_lexer": "ipython3",
   "version": "3.9.7"
  },
  "orig_nbformat": 4
 },
 "nbformat": 4,
 "nbformat_minor": 2
}
